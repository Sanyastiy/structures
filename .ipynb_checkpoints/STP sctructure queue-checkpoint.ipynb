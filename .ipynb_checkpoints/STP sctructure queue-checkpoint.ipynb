{
 "cells": [
  {
   "cell_type": "code",
   "execution_count": 1,
   "metadata": {},
   "outputs": [],
   "source": [
    "import time\n",
    "import random"
   ]
  },
  {
   "cell_type": "code",
   "execution_count": 2,
   "metadata": {},
   "outputs": [],
   "source": [
    "class Queue:\n",
    "    def __init__(self):\n",
    "        self.items = []\n",
    "    \n",
    "    def is_empty(self):\n",
    "        return self.items == []\n",
    "    \n",
    "    def enqueue(self,item):\n",
    "        self.items.insert(0,item)\n",
    "    \n",
    "    def dequeue(self):\n",
    "        return self.items.pop()\n",
    "    \n",
    "    def size(self):\n",
    "        return len(self.items)\n",
    "    \n",
    "    def simulate_line(self,till_show,max_time):\n",
    "        pq = Queue()\n",
    "        tix_sold = []\n",
    "        \n",
    "        for i in range(10):\n",
    "            pq.enqueue('moviefan '+str(i))\n",
    "        \n",
    "        t_end = time.time() + till_show\n",
    "        now = time.time()\n",
    "        while now < t_end and not pq.is_empty():\n",
    "            now = time.time()\n",
    "            r = random.randint(0,max_time)\n",
    "            time.sleep(r)\n",
    "            person = pq.dequeue()\n",
    "            print(person)\n",
    "            tix_sold.append(person)\n",
    "        \n",
    "        return tix_sold"
   ]
  },
  {
   "cell_type": "code",
   "execution_count": 3,
   "metadata": {},
   "outputs": [],
   "source": [
    "q=Queue()"
   ]
  },
  {
   "cell_type": "code",
   "execution_count": 5,
   "metadata": {},
   "outputs": [
    {
     "name": "stdout",
     "output_type": "stream",
     "text": [
      "moviefan 0\n",
      "moviefan 1\n",
      "moviefan 2\n",
      "moviefan 3\n",
      "moviefan 4\n",
      "moviefan 5\n",
      "moviefan 6\n",
      "moviefan 7\n",
      "moviefan 8\n",
      "moviefan 9\n"
     ]
    }
   ],
   "source": [
    "sold = q.simulate_line(5,2)\n",
    "print(sold)"
   ]
  },
  {
   "cell_type": "code",
   "execution_count": null,
   "metadata": {},
   "outputs": [],
   "source": []
  }
 ],
 "metadata": {
  "kernelspec": {
   "display_name": "Python 3",
   "language": "python",
   "name": "python3"
  },
  "language_info": {
   "codemirror_mode": {
    "name": "ipython",
    "version": 3
   },
   "file_extension": ".py",
   "mimetype": "text/x-python",
   "name": "python",
   "nbconvert_exporter": "python",
   "pygments_lexer": "ipython3",
   "version": "3.7.3"
  }
 },
 "nbformat": 4,
 "nbformat_minor": 2
}
